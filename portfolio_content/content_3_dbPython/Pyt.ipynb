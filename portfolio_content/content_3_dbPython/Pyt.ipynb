{
 "cells": [
  {
   "cell_type": "code",
   "execution_count": 27,
   "metadata": {},
   "outputs": [],
   "source": [
    "import sqlite3\n",
    "\n",
    "\n",
    "\n",
    "# Connexion à la base de données SQLite (création si elle n'existe pas)\n",
    "conn = sqlite3.connect('todo.db')\n",
    "cursor = conn.cursor()\n",
    "\n",
    "# Création de la table \"tasks\" si elle n'existe pas déjà\n",
    "cursor.execute('''\n",
    "CREATE TABLE IF NOT EXISTS tasks (\n",
    "    id INTEGER PRIMARY KEY AUTOINCREMENT,\n",
    "    description TEXT NOT NULL,\n",
    "    status TEXT NOT NULL DEFAULT 'Pending',\n",
    "    completion INTEGER NOT NULL DEFAULT 0 CHECK (completion >= 0 AND completion <= 100),\n",
    "    id_user INTEGER,\n",
    "    FOREIGN KEY (id_user) REFERENCES users(id)\n",
    "        ON DELETE CASCADE \n",
    "        ON UPDATE CASCADE\n",
    "    );\n",
    "''')\n",
    "conn.commit()"
   ]
  },
  {
   "cell_type": "code",
   "execution_count": 17,
   "metadata": {},
   "outputs": [],
   "source": [
    "# Connexion à la base de données SQLite (création si elle n'existe pas)\n",
    "conn = sqlite3.connect('users.db')\n",
    "cursor = conn.cursor()\n",
    "\n",
    "# Création de la table \"users\" si elle n'existe pas déjà\n",
    "cursor.execute('''\n",
    "CREATE TABLE IF NOT EXISTS users (\n",
    "    id INTEGER PRIMARY KEY AUTOINCREMENT,\n",
    "    name TEXT NOT NULL           \n",
    ")\n",
    "''')\n",
    "conn.commit()"
   ]
  },
  {
   "cell_type": "code",
   "execution_count": 15,
   "metadata": {},
   "outputs": [],
   "source": [
    "def add_user():\n",
    "    \"\"\"Créé un utilisateur\"\"\"\n",
    "    new_user = input(\"Comment s'appelle ce nouvel utilisateur ?\")\n",
    "    cursor.execute('INSERT INTO users (name) VALUES (?)', (new_user,))\n",
    "    conn.commit()\n",
    "    print(f\"Utilisateur ajouté : {new_user}\")"
   ]
  },
  {
   "cell_type": "code",
   "execution_count": 28,
   "metadata": {},
   "outputs": [],
   "source": [
    "def list_users():\n",
    "    \"\"\"Affiche tous les utilisateurs.\"\"\"\n",
    "    cursor.execute('SELECT id, name FROM users')\n",
    "    users = cursor.fetchall()\n",
    "    print(\"\\nListe des tâches :\")\n",
    "    for user in users:\n",
    "        print(f\"ID: {user[0]}, Nom: {user[1]}\")\n",
    "    print()"
   ]
  },
  {
   "cell_type": "code",
   "execution_count": 20,
   "metadata": {},
   "outputs": [],
   "source": [
    "\n",
    "def add_task(description):\n",
    "    \"\"\"Ajoute une tâche à la liste.\"\"\"\n",
    "    cursor.execute('INSERT INTO tasks (description) VALUES (?)', (description,))\n",
    "    conn.commit()\n",
    "    \"\"\"A qui cette tâche appartient-elle ?\"\"\"\n",
    "    user = input(\"Insérer l'id de l'utilisateur à qui appartient cette tâche\")\n",
    "    cursor.execute('INSERT INTO tasks (id_user) VALUES (?)', (user,))\n",
    "    conn.commit()    \n",
    "    print(f\"Tâche ajoutée : {description} à l'utilisateur n°{user}\")"
   ]
  },
  {
   "cell_type": "code",
   "execution_count": 21,
   "metadata": {},
   "outputs": [],
   "source": [
    "def list_tasks():\n",
    "    \"\"\"Affiche toutes les tâches.\"\"\"\n",
    "    cursor.execute('SELECT id, description, status, completion FROM tasks')\n",
    "    tasks = cursor.fetchall()\n",
    "    print(\"\\nListe des tâches :\")\n",
    "    for task in tasks:\n",
    "        print(f\"ID: {task[0]}, Description: {task[1]}, Complétion: {task[3]}%, Statut: {task[2]}\")\n",
    "    print()"
   ]
  },
  {
   "cell_type": "code",
   "execution_count": 8,
   "metadata": {},
   "outputs": [],
   "source": [
    "def mark_task_completed(task_id):\n",
    "    \"\"\"Marque une tâche comme terminée.\"\"\"\n",
    "    cursor.execute('UPDATE tasks SET status = ? WHERE id = ?', ('Completed', task_id))\n",
    "    conn.commit()\n",
    "    print(f\"Tâche ID {task_id} marquée comme terminée.\")"
   ]
  },
  {
   "cell_type": "code",
   "execution_count": 9,
   "metadata": {},
   "outputs": [],
   "source": [
    "def update_completion(task_id):\n",
    "    \"\"\"Actualise le % de complétion d'une tâche.\"\"\"\n",
    "    pourcentage = input(\"A quel pourcentage la tâche est-elle finie ?\")\n",
    "    cursor.execute('UPDATE tasks SET completion = ? WHERE id = ?', (pourcentage, task_id))\n",
    "    conn.commit()\n",
    "    print(f\"Tâche ID {task_id} marquée comme étant {pourcentage}% terminée.\")"
   ]
  },
  {
   "cell_type": "code",
   "execution_count": 10,
   "metadata": {},
   "outputs": [],
   "source": [
    "def delete_task(task_id):\n",
    "    \"\"\"Supprime une tâche de la liste.\"\"\"\n",
    "    cursor.execute('DELETE FROM tasks WHERE id = ?', (task_id,))\n",
    "    conn.commit()\n",
    "    print(f\"Tâche ID {task_id} supprimée.\")"
   ]
  },
  {
   "cell_type": "code",
   "execution_count": null,
   "metadata": {},
   "outputs": [],
   "source": [
    "def main():\n",
    "    \"\"\"Boucle principale pour le gestionnaire de tâches.\"\"\"\n",
    "    while True:\n",
    "        print(\"\\n--- Gestionnaire de tâches ---\")\n",
    "        print(\"0. Ajouter un utilisateur\")\n",
    "        print(\"0,1. Afficher les utilisateurs\")\n",
    "        print(\"1. Ajouter une tâche\")\n",
    "        print(\"2. Afficher les tâches\")\n",
    "        print(\"3. Mettre à jour le degré de complétion d'une tâche\")\n",
    "        print(\"4. Marquer une tâche comme terminée\")\n",
    "        print(\"5. Supprimer une tâche\")\n",
    "        print(\"6. Quitter\")\n",
    "        choice = input(\"Choisissez une option : \")\n",
    "\n",
    "        if choice == '0' : \n",
    "            add_user()\n",
    "        elif choice == '0,1' :\n",
    "            list_users()\n",
    "        elif choice == '1':\n",
    "            description = input(\"Entrez la description de la tâche : \")\n",
    "            add_task(description)\n",
    "        elif choice == '2':\n",
    "            list_tasks()\n",
    "        elif choice == '3':\n",
    "            task_id = int(input(\"Entrez l'ID de la tâche à mettre à jour : \"))\n",
    "            update_completion(task_id)        \n",
    "        elif choice == '4':\n",
    "            task_id = int(input(\"Entrez l'ID de la tâche à marquer comme terminée : \"))\n",
    "            mark_task_completed(task_id)\n",
    "        elif choice == '5':\n",
    "            task_id = int(input(\"Entrez l'ID de la tâche à supprimer : \"))\n",
    "            delete_task(task_id)\n",
    "        elif choice == '6':\n",
    "            print(\"Au revoir!\")\n",
    "            break\n",
    "        else:\n",
    "            print(\"Option invalide.\")\n",
    "            break\n",
    "\n",
    "if __name__ == \"__main__\":\n",
    "    main()"
   ]
  },
  {
   "cell_type": "code",
   "execution_count": 26,
   "metadata": {},
   "outputs": [
    {
     "name": "stdout",
     "output_type": "stream",
     "text": [
      "\n",
      "--- Gestionnaire de tâches ---\n",
      "0. Ajouter un utilisateur\n",
      "0,1. Afficher les utilisateurs\n",
      "1. Ajouter une tâche\n",
      "2. Afficher les tâches\n",
      "3. Mettre à jour le degré de complétion d'une tâche\n",
      "4. Marquer une tâche comme terminée\n",
      "5. Supprimer une tâche\n",
      "6. Quitter\n"
     ]
    },
    {
     "ename": "OperationalError",
     "evalue": "no such table: users",
     "output_type": "error",
     "traceback": [
      "\u001b[1;31m---------------------------------------------------------------------------\u001b[0m",
      "\u001b[1;31mOperationalError\u001b[0m                          Traceback (most recent call last)",
      "\u001b[1;32m<ipython-input-26-263240bbee7e>\u001b[0m in \u001b[0;36m<module>\u001b[1;34m\u001b[0m\n\u001b[1;32m----> 1\u001b[1;33m \u001b[0mmain\u001b[0m\u001b[1;33m(\u001b[0m\u001b[1;33m)\u001b[0m\u001b[1;33m\u001b[0m\u001b[1;33m\u001b[0m\u001b[0m\n\u001b[0m",
      "\u001b[1;32m<ipython-input-25-e6db8a6de306>\u001b[0m in \u001b[0;36mmain\u001b[1;34m()\u001b[0m\n\u001b[0;32m     16\u001b[0m             \u001b[0madd_user\u001b[0m\u001b[1;33m(\u001b[0m\u001b[1;33m)\u001b[0m\u001b[1;33m\u001b[0m\u001b[1;33m\u001b[0m\u001b[0m\n\u001b[0;32m     17\u001b[0m         \u001b[1;32melif\u001b[0m \u001b[0mchoice\u001b[0m \u001b[1;33m==\u001b[0m \u001b[1;34m'0,1'\u001b[0m \u001b[1;33m:\u001b[0m\u001b[1;33m\u001b[0m\u001b[1;33m\u001b[0m\u001b[0m\n\u001b[1;32m---> 18\u001b[1;33m             \u001b[0mlist_users\u001b[0m\u001b[1;33m(\u001b[0m\u001b[1;33m)\u001b[0m\u001b[1;33m\u001b[0m\u001b[1;33m\u001b[0m\u001b[0m\n\u001b[0m\u001b[0;32m     19\u001b[0m         \u001b[1;32melif\u001b[0m \u001b[0mchoice\u001b[0m \u001b[1;33m==\u001b[0m \u001b[1;34m'1'\u001b[0m\u001b[1;33m:\u001b[0m\u001b[1;33m\u001b[0m\u001b[1;33m\u001b[0m\u001b[0m\n\u001b[0;32m     20\u001b[0m             \u001b[0mdescription\u001b[0m \u001b[1;33m=\u001b[0m \u001b[0minput\u001b[0m\u001b[1;33m(\u001b[0m\u001b[1;34m\"Entrez la description de la tâche : \"\u001b[0m\u001b[1;33m)\u001b[0m\u001b[1;33m\u001b[0m\u001b[1;33m\u001b[0m\u001b[0m\n",
      "\u001b[1;32m<ipython-input-22-62944be8773d>\u001b[0m in \u001b[0;36mlist_users\u001b[1;34m()\u001b[0m\n\u001b[0;32m      1\u001b[0m \u001b[1;32mdef\u001b[0m \u001b[0mlist_users\u001b[0m\u001b[1;33m(\u001b[0m\u001b[1;33m)\u001b[0m\u001b[1;33m:\u001b[0m\u001b[1;33m\u001b[0m\u001b[1;33m\u001b[0m\u001b[0m\n\u001b[0;32m      2\u001b[0m     \u001b[1;34m\"\"\"Affiche tous les utilisateurs.\"\"\"\u001b[0m\u001b[1;33m\u001b[0m\u001b[1;33m\u001b[0m\u001b[0m\n\u001b[1;32m----> 3\u001b[1;33m     \u001b[0mcursor\u001b[0m\u001b[1;33m.\u001b[0m\u001b[0mexecute\u001b[0m\u001b[1;33m(\u001b[0m\u001b[1;34m'SELECT id, name FROM users'\u001b[0m\u001b[1;33m)\u001b[0m\u001b[1;33m\u001b[0m\u001b[1;33m\u001b[0m\u001b[0m\n\u001b[0m\u001b[0;32m      4\u001b[0m     \u001b[0musers\u001b[0m \u001b[1;33m=\u001b[0m \u001b[0mcursor\u001b[0m\u001b[1;33m.\u001b[0m\u001b[0mfetchall\u001b[0m\u001b[1;33m(\u001b[0m\u001b[1;33m)\u001b[0m\u001b[1;33m\u001b[0m\u001b[1;33m\u001b[0m\u001b[0m\n\u001b[0;32m      5\u001b[0m     \u001b[0mprint\u001b[0m\u001b[1;33m(\u001b[0m\u001b[1;34m\"\\nListe des tâches :\"\u001b[0m\u001b[1;33m)\u001b[0m\u001b[1;33m\u001b[0m\u001b[1;33m\u001b[0m\u001b[0m\n",
      "\u001b[1;31mOperationalError\u001b[0m: no such table: users"
     ]
    }
   ],
   "source": [
    "main()"
   ]
  },
  {
   "cell_type": "code",
   "execution_count": null,
   "metadata": {},
   "outputs": [],
   "source": []
  }
 ],
 "metadata": {
  "kernelspec": {
   "display_name": "Python 3",
   "language": "python",
   "name": "python3"
  },
  "language_info": {
   "codemirror_mode": {
    "name": "ipython",
    "version": 3
   },
   "file_extension": ".py",
   "mimetype": "text/x-python",
   "name": "python",
   "nbconvert_exporter": "python",
   "pygments_lexer": "ipython3",
   "version": "3.11.0"
  }
 },
 "nbformat": 4,
 "nbformat_minor": 2
}
